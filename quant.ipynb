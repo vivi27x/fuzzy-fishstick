{
 "cells": [
  {
   "cell_type": "code",
   "execution_count": 1,
   "id": "64943495",
   "metadata": {},
   "outputs": [
    {
     "name": "stderr",
     "output_type": "stream",
     "text": [
      "/home/vivek/anaconda3/envs/artifact-env/lib/python3.10/site-packages/tqdm/auto.py:21: TqdmWarning: IProgress not found. Please update jupyter and ipywidgets. See https://ipywidgets.readthedocs.io/en/stable/user_install.html\n",
      "  from .autonotebook import tqdm as notebook_tqdm\n"
     ]
    }
   ],
   "source": [
    "from pprint import pprint\n",
    "import argparse\n",
    "import gc\n",
    "from os.path import join\n",
    "from datetime import datetime\n",
    "\n",
    "import torch\n",
    "from torch.utils.data import DataLoader\n",
    "import lightning as L\n",
    "from lightning.pytorch.loggers import WandbLogger\n",
    "from data.dataset import CIFAKEDataset\n",
    "\n",
    "# from coco_fake_dataset import COCOFakeDataset\n",
    "# from dffd_dataset import DFFDDataset\n",
    "\n",
    "from model import model\n",
    "from lib.util import load_config\n",
    "import random\n",
    "import numpy as np\n",
    "\n"
   ]
  },
  {
   "cell_type": "code",
   "execution_count": 2,
   "id": "f9e94d60",
   "metadata": {},
   "outputs": [],
   "source": [
    "def args_func():\n",
    "    parser = argparse.ArgumentParser()\n",
    "    parser.add_argument(\n",
    "        \"--cfg\",\n",
    "        type=str,\n",
    "        help=\"The path to the config.\",\n",
    "        default=\"./configs/results_cifake_T.cfg\",\n",
    "    )\n",
    "    args = parser.parse_args()\n",
    "    return args\n"
   ]
  },
  {
   "cell_type": "code",
   "execution_count": 7,
   "id": "ce7af237",
   "metadata": {},
   "outputs": [],
   "source": [
    "gc.collect()\n",
    "torch.cuda.empty_cache()"
   ]
  },
  {
   "cell_type": "code",
   "execution_count": 3,
   "id": "4b9fdbd0",
   "metadata": {},
   "outputs": [
    {
     "name": "stdout",
     "output_type": "stream",
     "text": [
      "hi\n"
     ]
    }
   ],
   "source": [
    "print(\"hi\")"
   ]
  },
  {
   "cell_type": "code",
   "execution_count": 4,
   "id": "b2600c32",
   "metadata": {},
   "outputs": [
    {
     "name": "stdout",
     "output_type": "stream",
     "text": [
      "{'dataset': {'cifake_path': '../../datasets/cifake',\n",
      "             'coco2014_path': '../../datasets/coco2014',\n",
      "             'coco_fake_path': '../../datasets/fake_coco',\n",
      "             'dffd_path': '../../datasets/dffd',\n",
      "             'labels': 2,\n",
      "             'name': 'cifake'},\n",
      " 'model': {'add_fft_channel': True,\n",
      "           'add_lbp_channel': True,\n",
      "           'add_magnitude_channel': False,\n",
      "           'backbone': 'BNext-T',\n",
      "           'freeze_backbone': True},\n",
      " 'test': {'batch_size': 32,\n",
      "          'limit_test_batches': 1.0,\n",
      "          'mixed_precision': True,\n",
      "          'resolution': 224,\n",
      "          'seed': 5,\n",
      "          'weights_path': './weights'},\n",
      " 'train': {'accumulation_batches': 4,\n",
      "           'batch_size': 32,\n",
      "           'epoch_num': 10,\n",
      "           'limit_train_batches': 1.0,\n",
      "           'limit_val_batches': 1.0,\n",
      "           'mixed_precision': True,\n",
      "           'resolution': 224,\n",
      "           'seed': 5}}\n"
     ]
    }
   ],
   "source": [
    "# args = args_func()\n",
    "# load configs\n",
    "# cfg = load_config(args.cfg)\n",
    "cfg = load_config(\"./configs/results_cifake_T.cfg\")\n",
    "pprint(cfg)"
   ]
  },
  {
   "cell_type": "code",
   "execution_count": null,
   "id": "5d8d7fe2",
   "metadata": {},
   "outputs": [],
   "source": [
    "# preliminary setup\n",
    "torch.manual_seed(cfg[\"test\"][\"seed\"])\n",
    "random.seed(cfg[\"test\"][\"seed\"])\n",
    "np.random.seed(cfg[\"test\"][\"seed\"])\n",
    "torch.set_float32_matmul_precision(\"medium\")\n",
    "\n",
    "# get data\n",
    "if cfg[\"dataset\"][\"name\"] == \"cifake\":\n",
    "    print(f\"Loading CIFAKE dataset from {cfg['dataset']['cifake_path']}\")\n",
    "    test_dataset = CIFAKEDataset(\n",
    "        dataset_path=cfg[\"dataset\"][\"cifake_path\"],\n",
    "        split=\"test\",\n",
    "        resolution=cfg[\"test\"][\"resolution\"],\n",
    "    )"
   ]
  },
  {
   "cell_type": "code",
   "execution_count": 5,
   "id": "e2b8220a",
   "metadata": {},
   "outputs": [
    {
     "ename": "NameError",
     "evalue": "name 'test_dataset' is not defined",
     "output_type": "error",
     "traceback": [
      "\u001b[0;31m---------------------------------------------------------------------------\u001b[0m",
      "\u001b[0;31mNameError\u001b[0m                                 Traceback (most recent call last)",
      "Cell \u001b[0;32mIn[5], line 4\u001b[0m\n\u001b[1;32m      1\u001b[0m \u001b[38;5;66;03m# loads the dataloaders\u001b[39;00m\n\u001b[1;32m      2\u001b[0m num_workers \u001b[38;5;241m=\u001b[39m \u001b[38;5;241m4\u001b[39m\n\u001b[1;32m      3\u001b[0m test_loader \u001b[38;5;241m=\u001b[39m DataLoader(\n\u001b[0;32m----> 4\u001b[0m     \u001b[43mtest_dataset\u001b[49m,\n\u001b[1;32m      5\u001b[0m     batch_size\u001b[38;5;241m=\u001b[39mcfg[\u001b[38;5;124m\"\u001b[39m\u001b[38;5;124mtest\u001b[39m\u001b[38;5;124m\"\u001b[39m][\u001b[38;5;124m\"\u001b[39m\u001b[38;5;124mbatch_size\u001b[39m\u001b[38;5;124m\"\u001b[39m],\n\u001b[1;32m      6\u001b[0m     shuffle\u001b[38;5;241m=\u001b[39m\u001b[38;5;28;01mFalse\u001b[39;00m,\n\u001b[1;32m      7\u001b[0m     num_workers\u001b[38;5;241m=\u001b[39mnum_workers,\n\u001b[1;32m      8\u001b[0m     pin_memory\u001b[38;5;241m=\u001b[39m\u001b[38;5;28;01mTrue\u001b[39;00m,\n\u001b[1;32m      9\u001b[0m )\n",
      "\u001b[0;31mNameError\u001b[0m: name 'test_dataset' is not defined"
     ]
    }
   ],
   "source": [
    "# loads the dataloaders\n",
    "num_workers = 4\n",
    "test_loader = DataLoader(\n",
    "    test_dataset,\n",
    "    batch_size=cfg[\"test\"][\"batch_size\"],\n",
    "    shuffle=False,\n",
    "    num_workers=num_workers,\n",
    "    pin_memory=True,\n",
    ")"
   ]
  },
  {
   "cell_type": "code",
   "execution_count": 6,
   "id": "81ed74fa",
   "metadata": {},
   "outputs": [
    {
     "name": "stdout",
     "output_type": "stream",
     "text": [
      "Model with ELM Attention and Infor-Recoupling\n"
     ]
    }
   ],
   "source": [
    "# init model\n",
    "net = model.BNext4DFR.load_from_checkpoint(join(cfg[\"test\"][\"weights_path\"], f\"{cfg['dataset']['name']}_{cfg['model']['backbone'][-1]}{'_unfrozen' if not cfg['model']['freeze_backbone'] else ''}.ckpt\"))\n",
    "device = torch.device(\"cuda\" if torch.cuda.is_available() else \"cpu\")\n",
    "net = net.to(device)"
   ]
  },
  {
   "cell_type": "code",
   "execution_count": null,
   "id": "b16f0d4c",
   "metadata": {},
   "outputs": [],
   "source": []
  },
  {
   "cell_type": "code",
   "execution_count": null,
   "id": "5901746d",
   "metadata": {},
   "outputs": [],
   "source": [
    "\n",
    "    # # start training\n",
    "    # date = datetime.now().strftime(\"%Y%m%d_%H%M\")\n",
    "    # project = \"DFAD_CVPRW24\"\n",
    "    # run_label = args.cfg.split(\"/\")[-1].split(\".\")[0]\n",
    "    # run = cfg[\"dataset\"][\"name\"] + f\"_test_{date}_{run_label}\"\n",
    "    # logger = WandbLogger(project=project, name=run, id=run, log_model=False)\n",
    "    # trainer = L.Trainer(\n",
    "    #     accelerator=\"gpu\" if \"cuda\" in str(device) else \"cpu\",\n",
    "    #     devices=1,\n",
    "    #     precision=\"16-mixed\" if cfg[\"test\"][\"mixed_precision\"] else 32,\n",
    "    #     limit_test_batches=cfg[\"test\"][\"limit_test_batches\"],\n",
    "    #     logger=logger,\n",
    "    # )\n",
    "    # trainer.test(model=net, dataloaders=test_loader)"
   ]
  }
 ],
 "metadata": {
  "kernelspec": {
   "display_name": "artifact-env",
   "language": "python",
   "name": "python3"
  },
  "language_info": {
   "codemirror_mode": {
    "name": "ipython",
    "version": 3
   },
   "file_extension": ".py",
   "mimetype": "text/x-python",
   "name": "python",
   "nbconvert_exporter": "python",
   "pygments_lexer": "ipython3",
   "version": "3.10.18"
  }
 },
 "nbformat": 4,
 "nbformat_minor": 5
}
